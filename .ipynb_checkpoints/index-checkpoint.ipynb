{
 "cells": [
  {
   "cell_type": "markdown",
   "metadata": {},
   "source": [
    "### <a href =\"https://www.codewars.com/kata/59f34ec5a01431ab7600005a/python\"> Factorial length</a>\n",
    "\n",
    "In this Kata, you will implement a function ```count``` that takes an integer and returns the number of digits in ```factorial (n)```.\n",
    "\n",
    "For example, ```count(5) = 3 ```, because ```5! = 120```, and ```120``` has ```3``` digits.\n",
    "\n",
    "More examples in test cases.\n",
    "\n",
    "Brute force is not possible. A little research will go a long way, as this is a well known series. \n",
    "\n",
    "Good luck!\n",
    "\n",
    "#### Answer\n",
    "\n",
    "Using the Stirling Approximation\n",
    "\n",
    "\n",
    "\n"
   ]
  },
  {
   "cell_type": "code",
   "execution_count": 1,
   "metadata": {},
   "outputs": [],
   "source": [
    "import math\n",
    "def stirling(n):\n",
    "    return int(1 + .5*math.log10(2*math.pi*n)+ n* math.log10(n)- n* math.log10(math.e))//1\n",
    "def count(n):\n",
    "    return stirling(n)"
   ]
  },
  {
   "cell_type": "markdown",
   "metadata": {},
   "source": [
    "```\n",
    "Test.assert_equals(count(5),3)\n",
    "Test.assert_equals(count(50),65)\n",
    "Test.assert_equals(count(500),1135)\n",
    "Test.assert_equals(count(5000),16326)\n",
    "Test.assert_equals(count(50000),213237)\n",
    "Test.assert_equals(count(500000),2632342)\n",
    "Test.assert_equals(count(5000000),31323382)\n",
    "Test.assert_equals(count(50000000),363233781)\n",
    "```"
   ]
  },
  {
   "cell_type": "code",
   "execution_count": 2,
   "metadata": {},
   "outputs": [
    {
     "name": "stdout",
     "output_type": "stream",
     "text": [
      "count(5) = 3 True\n",
      "count(50) = 65 True\n",
      "count(500) = 1135 True\n",
      "count(5000) = 16326 True\n",
      "count(50000) = 213237 True\n",
      "count(500000) = 2632342 True\n",
      "count(5000000) = 31323382 True\n",
      "count(50000000) = 363233781 True\n"
     ]
    }
   ],
   "source": [
    "print(\"count(5) = 3\", count(5) == 3)\n",
    "print(\"count(50) = 65\", count(50) == 65)\n",
    "print(\"count(500) = 1135\", count(500) == 1135)\n",
    "print(\"count(5000) = 16326\", count(5000) == 16326)\n",
    "print(\"count(50000) = 213237\", count(50000) == 213237)\n",
    "print(\"count(500000) = 2632342\", count(500000) == 2632342)\n",
    "print(\"count(5000000) = 31323382\", count(5000000) == 31323382)\n",
    "print(\"count(50000000) = 363233781\", count(50000000) == 363233781)  "
   ]
  }
 ],
 "metadata": {
  "kernelspec": {
   "display_name": "Python 3",
   "language": "python",
   "name": "python3"
  },
  "language_info": {
   "codemirror_mode": {
    "name": "ipython",
    "version": 3
   },
   "file_extension": ".py",
   "mimetype": "text/x-python",
   "name": "python",
   "nbconvert_exporter": "python",
   "pygments_lexer": "ipython3",
   "version": "3.6.6"
  }
 },
 "nbformat": 4,
 "nbformat_minor": 2
}
